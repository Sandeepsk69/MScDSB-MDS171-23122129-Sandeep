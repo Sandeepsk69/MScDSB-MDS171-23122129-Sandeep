{
 "cells": [
  {
   "cell_type": "code",
   "execution_count": 13,
   "metadata": {},
   "outputs": [
    {
     "name": "stdout",
     "output_type": "stream",
     "text": [
      "sandeep\n",
      "sandeep\n",
      "sandeep\n",
      "sandeep\n",
      "sandeep\n",
      "sandeep\n",
      "sandeep\n",
      "sandeep\n",
      "sandeep\n",
      "\n"
     ]
    }
   ],
   "source": [
    "name=input(\"Enter your name:\")\n",
    "\n",
    "n=int(input(\"how many times you want to enter:\"))\n",
    "\n",
    "print((name+\"\\n\")*n)"
   ]
  }
 ],
 "metadata": {
  "kernelspec": {
   "display_name": "base",
   "language": "python",
   "name": "python3"
  },
  "language_info": {
   "codemirror_mode": {
    "name": "ipython",
    "version": 3
   },
   "file_extension": ".py",
   "mimetype": "text/x-python",
   "name": "python",
   "nbconvert_exporter": "python",
   "pygments_lexer": "ipython3",
   "version": "3.11.4"
  },
  "orig_nbformat": 4
 },
 "nbformat": 4,
 "nbformat_minor": 2
}
