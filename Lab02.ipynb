{
 "cells": [
  {
   "cell_type": "code",
<<<<<<< HEAD
   "execution_count": 1,
=======
   "execution_count": 30,
>>>>>>> cf0f06239ad44cb6fa6f4e231ded9fbce36bef86
   "metadata": {},
   "outputs": [],
   "source": [
    "def fnum(digit):                              # Define Fuction\n",
    " \n",
    "    if digit == '0':\n",
    "        print(\"Zero \", end = \" \")              # End for to have space\n",
    " \n",
    "    \n",
    "    elif digit == '1':\n",
    "        print(\"One \", end = \" \")\n",
    " \n",
    "    elif digit == '2':\n",
    "        print(\"Two \", end = \" \")\n",
    " \n",
    "    elif digit=='3':\n",
    "        print(\"Three\",end=\" \")\n",
    " \n",
    "    elif digit == '4':\n",
    "        print(\"Four \", end = \" \")\n",
    " \n",
    "    elif digit == '5':\n",
    "        print(\"Five \", end = \" \")\n",
    " \n",
    "    elif digit == '6':\n",
    "        print(\"Six \", end = \" \")\n",
    " \n",
    "    elif digit == '7':\n",
    "        print(\"Seven\", end = \" \")\n",
    " \n",
    "    elif digit == '8':\n",
    "        print(\"Eight\", end = \" \")\n",
    " \n",
    "    elif digit == '9':\n",
    "        print(\"Nine \", end =\" \")\n",
    "def Word(N):\n",
    "    i = 0\n",
    "    length = len(N)                           #List\n",
    " \n",
    "    # Finding each digit of the number\n",
    "    while i < length:\n",
    "         \n",
    "        # Print the digit in words\n",
    "        fnum(N[i])\n",
    "        i += 1"
   ]
  },
  {
   "cell_type": "code",
<<<<<<< HEAD
   "execution_count": 2,
=======
   "execution_count": 31,
>>>>>>> cf0f06239ad44cb6fa6f4e231ded9fbce36bef86
   "metadata": {},
   "outputs": [
    {
     "name": "stdout",
     "output_type": "stream",
     "text": [
      "Three Four  Five  "
     ]
    }
   ],
   "source": [
    "N=\"345\"\n",
    "Word(N)"
   ]
  },
  {
   "cell_type": "code",
<<<<<<< HEAD
   "execution_count": 3,
=======
   "execution_count": 32,
>>>>>>> cf0f06239ad44cb6fa6f4e231ded9fbce36bef86
   "metadata": {},
   "outputs": [
    {
     "name": "stdout",
     "output_type": "stream",
     "text": [
      "Nine  Eight "
     ]
    }
   ],
   "source": [
    "N=\"98\"\n",
    "Word(N)"
   ]
  },
  {
   "cell_type": "code",
   "execution_count": 33,
   "metadata": {},
   "outputs": [
    {
     "name": "stdout",
     "output_type": "stream",
     "text": [
      "Two  Four  "
     ]
    }
   ],
   "source": [
    "N=\"24\"\n",
    "Word(N)"
   ]
  },
  {
   "cell_type": "markdown",
   "metadata": {},
   "source": [
    "By \n",
    "Sandeep Kumar G\n",
    "23122129\n",
    "29 August"
   ]
<<<<<<< HEAD
=======
  },
  {
   "cell_type": "markdown",
   "metadata": {},
   "source": []
>>>>>>> cf0f06239ad44cb6fa6f4e231ded9fbce36bef86
  }
 ],
 "metadata": {
  "kernelspec": {
   "display_name": "base",
   "language": "python",
   "name": "python3"
  },
  "language_info": {
   "codemirror_mode": {
    "name": "ipython",
    "version": 3
   },
   "file_extension": ".py",
   "mimetype": "text/x-python",
   "name": "python",
   "nbconvert_exporter": "python",
   "pygments_lexer": "ipython3",
   "version": "3.11.4"
  },
  "orig_nbformat": 4
 },
 "nbformat": 4,
 "nbformat_minor": 2
}
