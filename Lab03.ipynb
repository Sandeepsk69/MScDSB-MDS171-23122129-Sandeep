{
 "cells": [
  {
   "cell_type": "markdown",
   "metadata": {},
   "source": [
    "Sandeep Kumar G\n",
    "23122129"
   ]
  },
  {
   "cell_type": "code",
   "execution_count": 27,
   "metadata": {},
   "outputs": [
    {
     "name": "stdout",
     "output_type": "stream",
     "text": [
      "54294\n",
      "100\n",
      "The Mean is:  542\n",
      "The Minimum value is:  17\n",
      "The maximum value is:  999\n",
      "The Range is:  982\n"
     ]
    }
   ],
   "source": [
    "def Arithmetica(a):  # Define Function\n",
    "    total=0\n",
    "    count=0\n",
    "    min_val= a[0]\n",
    "    max_val =a[0]\n",
    "    for i in a:         # Use Loop\n",
    "        total = total+i\n",
    "        count  = count+1\n",
    "        if i < min_val:\n",
    "            min_val = i\n",
    "        elif i > max_val:\n",
    "            max_val = i\n",
    "    mean = total //count         #Mean=Sum of Numbers/Total\n",
    "    return total , count , mean, min_val,max_val\n",
    "l1=[761, 123, 585, 275, 194, 840, 999, 622, 763, 40, 825, 687, 402, 338, 611, 987, 739, 95, 819, 568, 320, 126, 688, 948, 514, 223, 751, 379, 857, 767, 492, 162, 437, 934, 430, 343, 725, 511, 580, 678, 708, 823, 346, 179, 786, 663, 195, 890, 267, 502, 214, 300, 786, 961, 235, 559, 992, 919, 948, 318, 57, 787, 653, 317, 305, 172, 966, 182, 970, 17, 89, 624, 629, 595, 485, 752, 984, 978, 460, 124, 321, 256, 614, 852, 811, 561, 127, 207, 406, 615, 888, 391, 691, 470, 911, 401, 137, 600, 478, 682]\n",
    "total,count,mean,min_val,max_val = Arithmetica(l1)\n",
    "print(total)\n",
    "print(count)\n",
    "print(\"The Mean is: \",mean)\n",
    "print(\"The Minimum value is: \",min_val)\n",
    "print(\"The maximum value is: \",max_val)\n",
    "print(\"The Range is: \",max_val-min_val)"
   ]
  },
  {
   "cell_type": "code",
   "execution_count": 7,
   "metadata": {},
   "outputs": [],
   "source": [
    "def mydetails(name,phone,email):\n",
    "    file = open(\"sample.txt\",\"w+\")\n",
    "    file.write(\"name\\t:\\t\"+name+\"\\n\")\n",
    "    file.write(\"phone\\t:\\t\"+phone+\"\\n\")\n",
    "    file.write(\"email\\t:\\t\"+email+\"\\n\")\n",
    "    file.close()\n",
    "\n",
    "\n",
    "\n",
    "\n",
    "name = \"Sandeep SK\"\n",
    "phone = \"6362255208\"\n",
    "email = \"sandeep.kumar@msds.christuniversity.in\"\n",
    "mydetails(name,phone,email)"
   ]
  },
  {
   "cell_type": "markdown",
   "metadata": {},
   "source": [
    "Write a python program that will be operands and an operator performs the calculation and gives the result."
   ]
  },
  {
   "cell_type": "code",
   "execution_count": null,
   "metadata": {},
   "outputs": [],
   "source": []
  },
  {
   "cell_type": "code",
   "execution_count": null,
   "metadata": {},
   "outputs": [],
   "source": []
  }
 ],
 "metadata": {
  "kernelspec": {
   "display_name": "base",
   "language": "python",
   "name": "python3"
  },
  "language_info": {
   "codemirror_mode": {
    "name": "ipython",
    "version": 3
   },
   "file_extension": ".py",
   "mimetype": "text/x-python",
   "name": "python",
   "nbconvert_exporter": "python",
   "pygments_lexer": "ipython3",
   "version": "3.11.4"
  },
  "orig_nbformat": 4
 },
 "nbformat": 4,
 "nbformat_minor": 2
}
