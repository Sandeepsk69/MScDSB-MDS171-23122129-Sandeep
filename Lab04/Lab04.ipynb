{
 "cells": [
  {
   "cell_type": "markdown",
   "metadata": {},
   "source": [
    "Sandeep Kumar G\n",
    "23122129"
   ]
  },
  {
   "cell_type": "code",
   "execution_count": null,
   "metadata": {},
   "outputs": [],
   "source": [
    "def function(file):\n",
    "    file=['Name','Phone','Products','Quantity','Price'] ,['Sk', 23232323,'ONION',45,55],['PK', 4556569,'Tomato',56,89]         # Write data                 \n",
    "def file(name,phone,products,quantity,price):\n",
    "    file = open(\"sample.txt\",\"a+\")\n",
    "    file.write(\"name\\t:\\t\"+Name+\"\\n\")\n",
    "    file.write(\"phone\\t:\\t\"+Phone+\"\\n\")\n",
    "    file.write(\"prodcut\\t:\\t\"+Products+\"\\n\")\n",
    "    file.write(\"quantity\\t:\\t\"+Quantity+\"\\n\")\n",
    "    file.write(\"price\\t:\\t\"+Price+\"\\n\")\n",
    "    file.close()\n",
    "    return True\n",
    "Name = input(\"enter your Name\")\n",
    "Phone = input(\"enter your Phone\")\n",
    "Products = input(\"enter your Products\")\n",
    "Quantity = input(\"enter your Quantity\")\n",
    "Price = input(\"enter your Price\")\n",
    "Grocery=FarmersHarvest(Name,Phone,Products,Quantity,Price)\n",
    "\n",
    "if Grocery:\n",
    "    print(\"Order details are saved\")\n",
    "else:\n",
    "    print(\"Error\")\n"
   ]
  }
 ],
 "metadata": {
  "kernelspec": {
   "display_name": "base",
   "language": "python",
   "name": "python3"
  },
  "language_info": {
   "codemirror_mode": {
    "name": "ipython",
    "version": 3
   },
   "file_extension": ".py",
   "mimetype": "text/x-python",
   "name": "python",
   "nbconvert_exporter": "python",
   "pygments_lexer": "ipython3",
   "version": "3.11.4"
  },
  "orig_nbformat": 4
 },
 "nbformat": 4,
 "nbformat_minor": 2
}
